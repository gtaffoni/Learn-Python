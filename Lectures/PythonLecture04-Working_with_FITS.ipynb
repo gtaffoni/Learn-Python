{
 "cells": [
  {
   "cell_type": "markdown",
   "metadata": {},
   "source": [
    "# Manipulating Astronomical data with python"
   ]
  },
  {
   "cell_type": "markdown",
   "metadata": {},
   "source": [
    "In the Github course repository you will find a set of images that has been obserbed last years. \n",
    "\n",
    "The object is $SZ\\_Lyn$ observed using SVAS Telescope in Basovizza. \n",
    "\n",
    "It is a variable star and the aim of this observation is to measure the variability period of the star.\n"
   ]
  },
  {
   "cell_type": "raw",
   "metadata": {},
   "source": [
    "git clone ..."
   ]
  },
  {
   "cell_type": "code",
   "execution_count": 1,
   "metadata": {},
   "outputs": [],
   "source": [
    "from astropy.io import fits\n",
    "import numpy as np"
   ]
  },
  {
   "cell_type": "code",
   "execution_count": 2,
   "metadata": {},
   "outputs": [],
   "source": [
    "hdulist = fits.open(\"Dati/ima0001.fits\")"
   ]
  },
  {
   "cell_type": "markdown",
   "metadata": {},
   "source": [
    "The open() function has several optional arguments, the default mode, as in the above example, is “readonly”. \n",
    "\n",
    "The open function returns an object called an HDUList which is a list-like collection of HDU objects. \n",
    "\n",
    "An HDU (__Header Data Unit__) is the highest level component of the FITS file structure, consisting of a header and (typically) a data array or table.\n"
   ]
  },
  {
   "cell_type": "code",
   "execution_count": 6,
   "metadata": {},
   "outputs": [
    {
     "name": "stdout",
     "output_type": "stream",
     "text": [
      "Filename: Riduzione Dati/DATA/OBJ/ima0001.fits\n",
      "No.    Name      Ver    Type      Cards   Dimensions   Format\n",
      "  0  PRIMARY       1 PrimaryHDU      90   (1108, 834)   int16 (rescales to uint16)   \n"
     ]
    }
   ],
   "source": [
    "hdulist.info()"
   ]
  },
  {
   "cell_type": "markdown",
   "metadata": {},
   "source": [
    "After the above open call, hdulist[0] is the primary HDU, hdulist[1] is the first extension HDU, etc (if there are any extensions), and so on. \n",
    "\n",
    "In this particular case there is only a primary HDU."
   ]
  },
  {
   "cell_type": "markdown",
   "metadata": {},
   "source": [
    "## Working with header "
   ]
  },
  {
   "cell_type": "markdown",
   "metadata": {},
   "source": [
    "Now we can \"import\" the header into a python _dictionary_:"
   ]
  },
  {
   "cell_type": "code",
   "execution_count": 17,
   "metadata": {},
   "outputs": [
    {
     "data": {
      "text/plain": [
       "astropy.io.fits.header.Header"
      ]
     },
     "execution_count": 17,
     "metadata": {},
     "output_type": "execute_result"
    }
   ],
   "source": [
    "header = hdulist[0].header\n",
    "type(header)"
   ]
  },
  {
   "cell_type": "markdown",
   "metadata": {},
   "source": [
    "To print the whole header (all keys and values) you can use `print(repr(hdr))` or just type the name:"
   ]
  },
  {
   "cell_type": "code",
   "execution_count": 18,
   "metadata": {},
   "outputs": [
    {
     "data": {
      "text/plain": [
       "SIMPLE  =                    T / Standard FITS format: NOST 100-2.0             \n",
       "BITPIX  =                   16 / No. of bits per pixel                          \n",
       "NAXIS   =                    2 / No. of axes in image                           \n",
       "NAXIS1  =                 1108 / No. of pixels                                  \n",
       "NAXIS2  =                  834 / No. of pixels                                  \n",
       "EXTEND  =                    T / FITS extension may be present                  \n",
       "                                                                                \n",
       "                                                                                \n",
       "CRPIX1  =                   1. / Reference pixel                                \n",
       "CRVAL1  =                   1. / Coordinate at reference pixel                  \n",
       "CDELT1  =                   1. / Coord. incr. per pixel (original value)        \n",
       "CTYPE1  = '                '   / Units of coordinate                            \n",
       "CRPIX2  =                   1. / Reference pixel                                \n",
       "CRVAL2  =                   1. / Coordinate at reference pixel                  \n",
       "CDELT2  =                   1. / Coord. incr. per pixel (original value)        \n",
       "CTYPE2  = '                '   / Units of coordinate                            \n",
       "BUNIT   = '                '   / Units of data values                           \n",
       "BSCALE  =                   1. / Scaling factor: r = f*i + z                    \n",
       "BZERO   =               32768. / Zero offset: r = f*i + z                       \n",
       "DATAMAX =               44573. / Maximum data value                             \n",
       "DATAMIN =                1525. / Minimum data value                             \n",
       "                                                                                \n",
       "ORIGIN  = 'ESO-MIDAS'          / Written by MIDAS                               \n",
       "DATE    = '2015-04-09T18:24:40' /  [UTC] Date of writing                        \n",
       "FILENAME= 'ima0001.fits'       / Original file base-name                        \n",
       "MIDASFTP= 'IMAGE   '           / MIDAS File Type                                \n",
       "                                                                                \n",
       "OBJECT  = 'SZ_Lyn  '           / MIDAS desc.: IDENT(1)                          \n",
       "RA      =                   0. / MIDAS desc.: O_POS(1)                          \n",
       "DEC     =                   0. / MIDAS desc.: O_POS(2)                          \n",
       "DATE-OBS= '2015-03-18'         / MIDAS desc.: O_TIME(1)                         \n",
       "TM-START=                   0. / MIDAS desc.: O_TIME(5)                         \n",
       "EXPTIME =                   7. / MIDAS desc.: O_TIME(7)                         \n",
       "COMMENT NOST 100-2.0: Hanisch,R. et al. 2001, Astron. & Astrophys. 376, 559     \n",
       "AIRMASS =             1.004271 / MIDAS desc.: O_AIRM(1)                         \n",
       "TELESCOP= 'SVAS    '           / MIDAS desc.: TELESCOP(1)                       \n",
       "INSTRUME= 'C14     '           / MIDAS desc.: INSTRUME(1)                       \n",
       "OBSERVER= 'Iafrate '           / MIDAS desc.: OBSERVER(1)                       \n",
       "HISTORY Edit Flip                                                               \n",
       "HISTORY Edit Mirror                                                             \n",
       "EXPOSURE=                   7. / Exposure time in seconds                       \n",
       "SET-TEMP=                 -20. / CCD temperature setpoint in C                  \n",
       "CCD-TEMP=           -20.056101 / CCD temperature at start of exposure in C      \n",
       "XPIXSZ  =                 16.2 / Pixel Width in microns (after binning)         \n",
       "YPIXSZ  =                 16.2 / Pixel Height in microns (after binning)        \n",
       "XBINNING=                    3 / Binning factor in width                        \n",
       "YBINNING=                    3 / Binning factor in height                       \n",
       "XORGSUBF=                    0 / Subframe X position in binned pixels           \n",
       "YORGSUBF=                    0 / Subframe Y position in binned pixels           \n",
       "READOUTM= 'Monochrome'         / Readout mode of image                          \n",
       "FILTER  = 'Luminance'          / Filter used when taking image                  \n",
       "IMAGETYP= 'LIGHT   '           / Type of image                                  \n",
       "FOCUSPOS=                  800 / Focuser position in steps                      \n",
       "FOCUSSSZ=                   2. / Focuser step size in microns                   \n",
       "FOCUSTEM=                -274. / Focuser temperature in deg C                   \n",
       "OBJCTRA = '08 09 36'           / Nominal Right Ascension of center of image     \n",
       "OBJCTDEC= '+44 28 18'          / Nominal Declination of center of image         \n",
       "OBJCTALT= ' 84.7258'           / Nominal altitude of center of image            \n",
       "OBJCTAZ = '100.7240'           / Nominal azimuth of center of image             \n",
       "OBJCTHA = ' -0.4844'           / Nominal hour angle of center of image          \n",
       "PIERSIDE= 'WEST    '           / Side of pier telescope is on                   \n",
       "SITELAT = '45 38 28'           / Latitude of the imaging location               \n",
       "SITELONG= '13 52 30'           / Longitude of the imaging location              \n",
       "JD      =        2457100.29299 / Julian Date at start of exposure               \n",
       "JD-HELIO=        2457100.29542 / Heliocentric Julian Date at exposure midpoint  \n",
       "FOCALLEN=                3910. / Focal length of telescope in mm                \n",
       "APTDIA  =        355.600006104 / Aperture diameter of telescope in mm           \n",
       "APTAREA =        89144.8496555 / Aperture area of telescope in mm^2             \n",
       "SWCREATE= 'MaxIm DL Version 5.10' / Name of software that created the image     \n",
       "NOTES   = '        '                                                            \n",
       "OBJ_TYPE= 'astro   '                                                            \n",
       "FLIPSTAT= '        '                                                            \n",
       "SWOWNER = 'Paolo Santin'       / Licensed owner of software                     \n",
       "INPUTFMT= 'FITS    '           / Format of file from which image was read       \n",
       "SWMODIFY= 'MaxIm DL Version 5.12' / Name of software that modified the image    \n",
       "CSTRETCH= 'Medium  '           / Initial display stretch mode                   \n",
       "CBLACK  =                 1730 / Initial display black level in ADUs            \n",
       "CWHITE  =                 2228 / Initial display white level in ADUs            \n",
       "PEDESTAL=                    0 / Correction to add for zero-based ADU           \n",
       "                                                                                \n",
       "HISTORY  ESO-DESCRIPTORS START   ................                               \n",
       "HISTORY  'LHCUTS','R*4',1,4,'5E14.7'                                            \n",
       "HISTORY   1.6183013E+03 1.9600503E+03 1.5250000E+03 4.4573000E+04               \n",
       "HISTORY                                                                         \n",
       "HISTORY  'DISPLAY_DATA','I*4',1,9,'7I10'                                        \n",
       "HISTORY           2         2       555       418         0        -1        -1 \n",
       "HISTORY          -1        -1                                                   \n",
       "HISTORY                                                                         \n",
       "HISTORY  ESO-DESCRIPTORS END     ................                               \n",
       "                                                                                "
      ]
     },
     "execution_count": 18,
     "metadata": {},
     "output_type": "execute_result"
    }
   ],
   "source": [
    "header"
   ]
  },
  {
   "cell_type": "markdown",
   "metadata": {},
   "source": [
    "To get a list of all keywords, use the `Header.keys()` method just as you would with a dict:"
   ]
  },
  {
   "cell_type": "code",
   "execution_count": 24,
   "metadata": {},
   "outputs": [
    {
     "data": {
      "text/plain": [
       "['SIMPLE',\n",
       " 'BITPIX',\n",
       " 'NAXIS',\n",
       " 'NAXIS1',\n",
       " 'NAXIS2',\n",
       " 'EXTEND',\n",
       " '',\n",
       " '',\n",
       " 'CRPIX1',\n",
       " 'CRVAL1',\n",
       " 'CDELT1',\n",
       " 'CTYPE1',\n",
       " 'CRPIX2',\n",
       " 'CRVAL2',\n",
       " 'CDELT2',\n",
       " 'CTYPE2',\n",
       " 'BUNIT',\n",
       " 'BSCALE',\n",
       " 'BZERO',\n",
       " 'DATAMAX',\n",
       " 'DATAMIN',\n",
       " '',\n",
       " 'ORIGIN',\n",
       " 'DATE',\n",
       " 'FILENAME',\n",
       " 'MIDASFTP',\n",
       " '',\n",
       " 'OBJECT',\n",
       " 'RA',\n",
       " 'DEC',\n",
       " 'DATE-OBS',\n",
       " 'TM-START',\n",
       " 'EXPTIME',\n",
       " 'COMMENT',\n",
       " 'AIRMASS',\n",
       " 'TELESCOP',\n",
       " 'INSTRUME',\n",
       " 'OBSERVER',\n",
       " 'HISTORY',\n",
       " 'HISTORY',\n",
       " 'EXPOSURE',\n",
       " 'SET-TEMP',\n",
       " 'CCD-TEMP',\n",
       " 'XPIXSZ',\n",
       " 'YPIXSZ',\n",
       " 'XBINNING',\n",
       " 'YBINNING',\n",
       " 'XORGSUBF',\n",
       " 'YORGSUBF',\n",
       " 'READOUTM',\n",
       " 'FILTER',\n",
       " 'IMAGETYP',\n",
       " 'FOCUSPOS',\n",
       " 'FOCUSSSZ',\n",
       " 'FOCUSTEM',\n",
       " 'OBJCTRA',\n",
       " 'OBJCTDEC',\n",
       " 'OBJCTALT',\n",
       " 'OBJCTAZ',\n",
       " 'OBJCTHA',\n",
       " 'PIERSIDE',\n",
       " 'SITELAT',\n",
       " 'SITELONG',\n",
       " 'JD',\n",
       " 'JD-HELIO',\n",
       " 'FOCALLEN',\n",
       " 'APTDIA',\n",
       " 'APTAREA',\n",
       " 'SWCREATE',\n",
       " 'NOTES',\n",
       " 'OBJ_TYPE',\n",
       " 'FLIPSTAT',\n",
       " 'SWOWNER',\n",
       " 'INPUTFMT',\n",
       " 'SWMODIFY',\n",
       " 'CSTRETCH',\n",
       " 'CBLACK',\n",
       " 'CWHITE',\n",
       " 'PEDESTAL',\n",
       " 'NEWOBS',\n",
       " '',\n",
       " 'HISTORY',\n",
       " 'HISTORY',\n",
       " 'HISTORY',\n",
       " 'HISTORY',\n",
       " 'HISTORY',\n",
       " 'HISTORY',\n",
       " 'HISTORY',\n",
       " 'HISTORY',\n",
       " 'HISTORY']"
      ]
     },
     "execution_count": 24,
     "metadata": {},
     "output_type": "execute_result"
    }
   ],
   "source": [
    "list(header.keys())"
   ]
  },
  {
   "cell_type": "code",
   "execution_count": 14,
   "metadata": {},
   "outputs": [
    {
     "data": {
      "text/plain": [
       "Edit Flip\n",
       "Edit Mirror\n",
       " ESO-DESCRIPTORS START   ................\n",
       " 'LHCUTS','R*4',1,4,'5E14.7'\n",
       "  1.6183013E+03 1.9600503E+03 1.5250000E+03 4.4573000E+04\n",
       "\n",
       " 'DISPLAY_DATA','I*4',1,9,'7I10'\n",
       "          2         2       555       418         0        -1        -1\n",
       "         -1        -1\n",
       "\n",
       " ESO-DESCRIPTORS END     ................"
      ]
     },
     "execution_count": 14,
     "metadata": {},
     "output_type": "execute_result"
    }
   ],
   "source": [
    "header['HISTORY']"
   ]
  },
  {
   "cell_type": "code",
   "execution_count": 19,
   "metadata": {},
   "outputs": [
    {
     "data": {
      "text/plain": [
       "'2015-04-09T18:24:40'"
      ]
     },
     "execution_count": 19,
     "metadata": {},
     "output_type": "execute_result"
    }
   ],
   "source": [
    "header['DATE']"
   ]
  },
  {
   "cell_type": "markdown",
   "metadata": {},
   "source": [
    "Each keyword have a value and may  have an associated comment"
   ]
  },
  {
   "cell_type": "code",
   "execution_count": 20,
   "metadata": {},
   "outputs": [
    {
     "data": {
      "text/plain": [
       "'[UTC] Date of writing'"
      ]
     },
     "execution_count": 20,
     "metadata": {},
     "output_type": "execute_result"
    }
   ],
   "source": [
    "header.comments['DATE']"
   ]
  },
  {
   "cell_type": "markdown",
   "metadata": {},
   "source": [
    "Like a dict, one may also use the above syntax to add a new keyword/value pair (and optionally a comment as well). In this case the new card is appended to the end of the header (unless it’s a commentary keyword such as COMMENT or HISTORY, in which case it is appended after the last card with that keyword).\n",
    "\n",
    "Another way to either update an existing card or append a new one is to use the `Header.set()` method:"
   ]
  },
  {
   "cell_type": "code",
   "execution_count": 21,
   "metadata": {},
   "outputs": [],
   "source": [
    "header.set(\"newobs\",\"Taffoni\")"
   ]
  },
  {
   "cell_type": "code",
   "execution_count": 23,
   "metadata": {},
   "outputs": [
    {
     "data": {
      "text/plain": [
       "'Taffoni'"
      ]
     },
     "execution_count": 23,
     "metadata": {},
     "output_type": "execute_result"
    }
   ],
   "source": [
    "header['newobs']"
   ]
  },
  {
   "cell_type": "markdown",
   "metadata": {},
   "source": [
    "## Working with data"
   ]
  },
  {
   "cell_type": "markdown",
   "metadata": {},
   "source": [
    "A FITS file contains data of different kind: images or Table data.\n",
    "\n",
    "### Images\n",
    "\n",
    "If an HDU’s data is an image, the data attribute of the HDU object will return a numpy ndarray object. Refer to the numpy documentation and on Lecture02 for details on manipulating these numerical arrays:"
   ]
  },
  {
   "cell_type": "code",
   "execution_count": 38,
   "metadata": {},
   "outputs": [
    {
     "data": {
      "text/plain": [
       "numpy.ndarray"
      ]
     },
     "execution_count": 38,
     "metadata": {},
     "output_type": "execute_result"
    }
   ],
   "source": [
    "data = hdulist[0].data\n",
    "type(data)"
   ]
  },
  {
   "cell_type": "markdown",
   "metadata": {},
   "source": [
    "The image has a dimension that must be the same as described in the Header (NAXIS1, NAXIS2). "
   ]
  },
  {
   "cell_type": "code",
   "execution_count": 39,
   "metadata": {},
   "outputs": [
    {
     "data": {
      "text/plain": [
       "(834, 1108)"
      ]
     },
     "execution_count": 39,
     "metadata": {},
     "output_type": "execute_result"
    }
   ],
   "source": [
    "data.shape"
   ]
  },
  {
   "cell_type": "code",
   "execution_count": 41,
   "metadata": {},
   "outputs": [
    {
     "name": "stdout",
     "output_type": "stream",
     "text": [
      "1108 834\n"
     ]
    }
   ],
   "source": [
    "print (\"%s %s\" %(header['NAXIS1'],header['NAXIS2']))"
   ]
  },
  {
   "cell_type": "markdown",
   "metadata": {},
   "source": [
    "Images data is a pixel intensity and it is an integer. "
   ]
  },
  {
   "cell_type": "code",
   "execution_count": 42,
   "metadata": {},
   "outputs": [
    {
     "data": {
      "text/plain": [
       "'uint16'"
      ]
     },
     "execution_count": 42,
     "metadata": {},
     "output_type": "execute_result"
    }
   ],
   "source": [
    "data.dtype.name"
   ]
  },
  {
   "cell_type": "markdown",
   "metadata": {},
   "source": [
    "Since image data is a numpy object, we can slice it, view it, and perform mathematical operations on it."
   ]
  },
  {
   "cell_type": "code",
   "execution_count": 43,
   "metadata": {},
   "outputs": [
    {
     "data": {
      "text/plain": [
       "1889"
      ]
     },
     "execution_count": 43,
     "metadata": {},
     "output_type": "execute_result"
    }
   ],
   "source": [
    "data[100,35]"
   ]
  },
  {
   "cell_type": "code",
   "execution_count": 44,
   "metadata": {},
   "outputs": [
    {
     "data": {
      "text/plain": [
       "array([[1980, 1915, 1959, 1969, 1853, 1904, 2071, 1945, 1844, 1877],\n",
       "       [2057, 1971, 1978, 1978, 1987, 1849, 1998, 1881, 1989, 1938],\n",
       "       [1946, 1981, 2066, 1908, 1943, 1885, 1909, 2015, 1849, 1918],\n",
       "       [1971, 1912, 2041, 1953, 2113, 2036, 1940, 1958, 2002, 2109],\n",
       "       [1997, 1992, 2025, 1934, 1993, 2066, 1964, 1903, 1955, 1989],\n",
       "       [1919, 1973, 1952, 1983, 1956, 2022, 1916, 1894, 1969, 1945],\n",
       "       [1969, 2053, 1941, 2023, 1870, 1899, 1973, 1986, 1928, 1875],\n",
       "       [1933, 1858, 1968, 1984, 2019, 1920, 1924, 1934, 1901, 1974],\n",
       "       [1880, 2020, 2035, 2006, 2038, 1988, 1916, 1948, 1982, 1996],\n",
       "       [1975, 2017, 1974, 1866, 2026, 1885, 1992, 1911, 1888, 1961]], dtype=uint16)"
      ]
     },
     "execution_count": 44,
     "metadata": {},
     "output_type": "execute_result"
    }
   ],
   "source": [
    "data[30:40, 10:20]"
   ]
  },
  {
   "cell_type": "markdown",
   "metadata": {},
   "source": [
    "As any numpy array you can apply different functions (see Lecture 2)"
   ]
  },
  {
   "cell_type": "code",
   "execution_count": 45,
   "metadata": {},
   "outputs": [
    {
     "data": {
      "text/plain": [
       "44573"
      ]
     },
     "execution_count": 45,
     "metadata": {},
     "output_type": "execute_result"
    }
   ],
   "source": [
    "data.max() #max value"
   ]
  },
  {
   "cell_type": "markdown",
   "metadata": {},
   "source": [
    "Or also the pixels corresponding to  the maximum value"
   ]
  },
  {
   "cell_type": "code",
   "execution_count": 49,
   "metadata": {},
   "outputs": [],
   "source": [
    "maximum_indices = np.where(data==data.max())"
   ]
  },
  {
   "cell_type": "code",
   "execution_count": 55,
   "metadata": {},
   "outputs": [
    {
     "data": {
      "text/plain": [
       "(array([490]), array([148]))"
      ]
     },
     "execution_count": 55,
     "metadata": {},
     "output_type": "execute_result"
    }
   ],
   "source": [
    "maximum_indices"
   ]
  },
  {
   "cell_type": "markdown",
   "metadata": {},
   "source": [
    "In this case just one pixel with coordinates (490,148)"
   ]
  },
  {
   "cell_type": "markdown",
   "metadata": {},
   "source": [
    "### Plot FITS images"
   ]
  },
  {
   "cell_type": "markdown",
   "metadata": {},
   "source": [
    "As any array we can use matplotlib to plot the image."
   ]
  },
  {
   "cell_type": "code",
   "execution_count": 58,
   "metadata": {},
   "outputs": [],
   "source": [
    "import matplotlib.pyplot as plt"
   ]
  },
  {
   "cell_type": "code",
   "execution_count": 62,
   "metadata": {},
   "outputs": [
    {
     "data": {
      "text/plain": [
       "<matplotlib.image.AxesImage at 0x7f2b4951fdd8>"
      ]
     },
     "execution_count": 62,
     "metadata": {},
     "output_type": "execute_result"
    },
    {
     "data": {
      "image/png": "[encoded data removed]",
      "text/plain": [
       "<matplotlib.figure.Figure at 0x7f2b495ad9e8>"
      ]
     },
     "metadata": {},
     "output_type": "display_data"
    }
   ],
   "source": [
    "plt.imshow(data, cmap='Greys', vmax=2200,vmin=1500)"
   ]
  },
  {
   "cell_type": "markdown",
   "metadata": {},
   "source": [
    "### Table data"
   ]
  },
  {
   "cell_type": "code",
   "execution_count": 3,
   "metadata": {},
   "outputs": [],
   "source": [
    "hdulist = fits.open(\"Dati/ESTM1.1.01-10.02.2017-0002.fits\")"
   ]
  },
  {
   "cell_type": "code",
   "execution_count": 4,
   "metadata": {},
   "outputs": [
    {
     "name": "stdout",
     "output_type": "stream",
     "text": [
      "Filename: Dati/ESTM1.1.01-10.02.2017-0002.fits\n",
      "No.    Name      Ver    Type      Cards   Dimensions   Format\n",
      "  0  PRIMARY       1 PrimaryHDU      48   ()      \n",
      "  1                1 BinTableHDU     14   2592R x 3C   [E, E, E]   \n"
     ]
    }
   ],
   "source": [
    "hdulist.info()"
   ]
  },
  {
   "cell_type": "markdown",
   "metadata": {},
   "source": [
    "Here you can see a binary table as HDU 1"
   ]
  },
  {
   "cell_type": "code",
   "execution_count": 5,
   "metadata": {},
   "outputs": [
    {
     "name": "stdout",
     "output_type": "stream",
     "text": [
      "SIMPLE  =                    T / conforms to FITS standard                      \n",
      "BITPIX  =                    8 / array data type                                \n",
      "NAXIS   =                    0 / number of array dimensions                     \n",
      "EXTEND  =                    T                                                  \n",
      "N       =                   54 / number of latitude zones                       \n",
      "NS      =                   48 / number of time steps per orbit                 \n",
      "NAME    = 'EARTHGEO '          / planet name                                    \n",
      "MSTAR   =           1.9891E+30 / solar masses                                   \n",
      "LUMSTAR =        3.8247196E+26 / luminosity in solar units                      \n",
      "SMA     =           0.89999998 / semi-major axis [AU]                           \n",
      "ECC     =                  0.0 / eccentricity                                   \n",
      "OMEGAPER=         -77.06300354 / argument of pericenter                         \n",
      "GRAV    =           9.80000019 / surface gravity [gEARTH=9.8 m/s**2]            \n",
      "OBLIQ   =                  0.0 / obliquity of planet rotation axis [deg]        \n",
      "PROT    =                  1.0 / planet rotation period [days]                  \n",
      "RPLAN   =            6371000.0 / planet radius [R(earth)=6.371e6 m]             \n",
      "GEO     =                    4 / planet geography (ocean fract. in lat zones)   \n",
      "FO_CONST=           0.69999999 / const fraction of oceans                       \n",
      "PRESS   =              10031.0 / total dry pressure at planet surface [Pa]      \n",
      "PN2     =             780840.0 / N2 partial pressure [ppvm]                     \n",
      "PO2     =             209460.0 / O2 partial pressure [ppvm]                     \n",
      "P_CO2   =                380.0 / CO2 partial pressure [ppvm]                    \n",
      "P_CH4   =                  1.8 / CH4 partial pressure [ppvm]                    \n",
      "P_O3    =                  0.0 / O3 partial pressure [ppvm]                     \n",
      "RH      =           0.60000002 / relative humidity                              \n",
      "TMGLOB  =            302.06743 / mean orbital globaltemperature                 \n",
      "HLW     =                  1.0 / mean orbital global liquid-water habitability  \n",
      "H050    =                  1.0 / mean orbital globalcomplex-life habitability   \n",
      "ALB     =           0.27390519 / mean orbital albedo                            \n",
      "CLOUDS  =           0.67095324 / mean orbital cloud covering                    \n",
      "NORBIT  =                   55 / number of orbit before convergence             \n",
      "CONTHAB =                  1.0 /  index of continuous liquid-water habitability \n",
      "DTEP    =              24.0236 / equator-pole temperature difference            \n",
      "MOLR    =               311.98 / mean OLR                                       \n",
      "MASR    =                  0.0 / mean ASR                                       \n",
      "ICE     =                  0.0 / mean global ice coverage                       \n",
      "DATE    = '10022017'           / date of the run                                \n",
      "NUMBER  =                    2 / Ordered map number for the above date          \n",
      "VERSION = '1.1.03  '           / code version                                   \n",
      "SIMTYPE = 'Std        '        / type of run                                    \n",
      "PAPER1  = 'Vladilo+2015,ApJ,804,50' / Reference paper (model)                   \n",
      "PAPER2  = 'Silva+2016,Int.J.Astrobiology,pp.1-22 doi:10.1017/S14735504160002' / \n",
      "PRJNAME = 'EXOCLIMATES'        / project name                                   \n",
      "COMMENT  The planet geography expressed in           terms of                   \n",
      "COMMENT  ocean fractions in each latitude zone                                  \n",
      "COMMENT  0: constant freaction of oceans                                        \n",
      "COMMENT  1: present Earth WK97; 2: equatorial cont.WK3: polar cont.WK97         \n",
      "COMMENT  4: present Earth, file fo_earth_DMAP.dat                               \n"
     ]
    }
   ],
   "source": [
    "header = hdulist[0].header\n",
    "print(repr(header))"
   ]
  },
  {
   "cell_type": "code",
   "execution_count": 6,
   "metadata": {},
   "outputs": [],
   "source": [
    "data = hdulist[1].data"
   ]
  },
  {
   "cell_type": "markdown",
   "metadata": {},
   "source": [
    "We can inspect the first element"
   ]
  },
  {
   "cell_type": "code",
   "execution_count": 7,
   "metadata": {},
   "outputs": [
    {
     "name": "stdout",
     "output_type": "stream",
     "text": [
      "(0.02083333, -88.333336, 284.32898)\n"
     ]
    }
   ],
   "source": [
    "print(data[0])"
   ]
  },
  {
   "cell_type": "markdown",
   "metadata": {},
   "source": [
    "They are real numbers. \n",
    "\n",
    "Each row in the table is a __FITS_record__ object which looks like a (Python) _tuple_ containing elements of heterogeneous data types. They may be:  integer, string, floating point number,  a Boolean value etc.\n",
    "\n",
    "So the table data are just an array of such records. \n",
    "\n",
    "To get the first column or “field”  of the table, use:\n"
   ]
  },
  {
   "cell_type": "code",
   "execution_count": 8,
   "metadata": {},
   "outputs": [
    {
     "data": {
      "text/plain": [
       "array([ 0.02083333,  0.02083333,  0.02083333, ...,  1.        ,\n",
       "        1.        ,  1.        ], dtype=float32)"
      ]
     },
     "execution_count": 8,
     "metadata": {},
     "output_type": "execute_result"
    }
   ],
   "source": [
    "data.field(0)"
   ]
  },
  {
   "cell_type": "markdown",
   "metadata": {},
   "source": [
    " A column can be referred either by index, as above, or by name but I need to find it."
   ]
  },
  {
   "cell_type": "code",
   "execution_count": 10,
   "metadata": {},
   "outputs": [],
   "source": [
    "cols = hdulist[1].columns"
   ]
  },
  {
   "cell_type": "code",
   "execution_count": 11,
   "metadata": {},
   "outputs": [
    {
     "name": "stdout",
     "output_type": "stream",
     "text": [
      "name:\n",
      "    ['year', 'lat', 'temp']\n",
      "format:\n",
      "    ['E', 'E', 'E']\n",
      "unit:\n",
      "    ['', '', '']\n",
      "null:\n",
      "    ['', '', '']\n",
      "bscale:\n",
      "    ['', '', '']\n",
      "bzero:\n",
      "    ['', '', '']\n",
      "disp:\n",
      "    ['', '', '']\n",
      "start:\n",
      "    ['', '', '']\n",
      "dim:\n",
      "    ['', '', '']\n",
      "coord_type:\n",
      "    ['', '', '']\n",
      "coord_unit:\n",
      "    ['', '', '']\n",
      "coord_ref_point:\n",
      "    ['', '', '']\n",
      "coord_ref_value:\n",
      "    ['', '', '']\n",
      "coord_inc:\n",
      "    ['', '', '']\n",
      "time_ref_pos:\n",
      "    ['', '', '']\n"
     ]
    }
   ],
   "source": [
    "cols.info()"
   ]
  },
  {
   "cell_type": "markdown",
   "metadata": {},
   "source": [
    "So now we know that the first column is a year, the second is a latitude, the third is a temperature"
   ]
  },
  {
   "cell_type": "code",
   "execution_count": 13,
   "metadata": {},
   "outputs": [
    {
     "data": {
      "text/plain": [
       "array([ 0.02083333,  0.02083333,  0.02083333, ...,  1.        ,\n",
       "        1.        ,  1.        ], dtype=float32)"
      ]
     },
     "execution_count": 13,
     "metadata": {},
     "output_type": "execute_result"
    }
   ],
   "source": [
    "data.field('year')"
   ]
  },
  {
   "cell_type": "markdown",
   "metadata": {},
   "source": [
    "or also"
   ]
  },
  {
   "cell_type": "code",
   "execution_count": 14,
   "metadata": {},
   "outputs": [
    {
     "data": {
      "text/plain": [
       "array([ 0.02083333,  0.02083333,  0.02083333, ...,  1.        ,\n",
       "        1.        ,  1.        ], dtype=float32)"
      ]
     },
     "execution_count": 14,
     "metadata": {},
     "output_type": "execute_result"
    }
   ],
   "source": [
    "data['year']"
   ]
  },
  {
   "cell_type": "markdown",
   "metadata": {},
   "source": [
    "Once we have the `cols` object, we can get different informations directly"
   ]
  },
  {
   "cell_type": "code",
   "execution_count": 15,
   "metadata": {},
   "outputs": [
    {
     "data": {
      "text/plain": [
       "['year', 'lat', 'temp']"
      ]
     },
     "execution_count": 15,
     "metadata": {},
     "output_type": "execute_result"
    }
   ],
   "source": [
    "cols.names"
   ]
  },
  {
   "cell_type": "markdown",
   "metadata": {},
   "source": [
    "Since each field is a Numpy object, we’ll have the entire arsenal of Numpy tools to use, but also SciPy if we need:"
   ]
  },
  {
   "cell_type": "code",
   "execution_count": 17,
   "metadata": {},
   "outputs": [
    {
     "data": {
      "text/plain": [
       "298.04715"
      ]
     },
     "execution_count": 17,
     "metadata": {},
     "output_type": "execute_result"
    }
   ],
   "source": [
    "data.field('temp').mean() # mean temperature avereged in time"
   ]
  },
  {
   "cell_type": "markdown",
   "metadata": {},
   "source": [
    "## Save modifications or create new a FITS"
   ]
  },
  {
   "cell_type": "markdown",
   "metadata": {},
   "source": [
    "As mentioned earlier, after a user opened a file, made a few changes to either header or data, the user can use `HDUList.writeto()` to save the changes. This takes the version of headers and data in memory and writes them to a new FITS file on disk. Subsequent operations can be performed to the data in memory and written out to yet another different file, all without recopying the original data to (more) memory:"
   ]
  },
  {
   "cell_type": "code",
   "execution_count": 18,
   "metadata": {},
   "outputs": [],
   "source": [
    "hdulist.writeto('newtable.fits')"
   ]
  },
  {
   "cell_type": "markdown",
   "metadata": {},
   "source": [
    "### Create a new file"
   ]
  },
  {
   "cell_type": "markdown",
   "metadata": {},
   "source": [
    "Assume that we have some data that we want to save in FITS format. It can be either an Image (collection of Pixels from CCD) or a Table.\n",
    "\n",
    "Here we consider the two cases.\n",
    "\n",
    "**Image data**\n",
    "\n",
    "We start from a bidimentional NumPy array "
   ]
  },
  {
   "cell_type": "code",
   "execution_count": 19,
   "metadata": {},
   "outputs": [],
   "source": [
    "image = np.random.rand(1024,768)"
   ]
  },
  {
   "cell_type": "markdown",
   "metadata": {},
   "source": [
    "We create the primary HDU"
   ]
  },
  {
   "cell_type": "code",
   "execution_count": 20,
   "metadata": {},
   "outputs": [],
   "source": [
    "hdu0 = fits.PrimaryHDU(image)"
   ]
  },
  {
   "cell_type": "markdown",
   "metadata": {},
   "source": [
    "We then create a HDUList to contain the newly created primary HDU:"
   ]
  },
  {
   "cell_type": "code",
   "execution_count": 22,
   "metadata": {},
   "outputs": [],
   "source": [
    "hdul = fits.HDUList([hdu0])"
   ]
  },
  {
   "cell_type": "code",
   "execution_count": 23,
   "metadata": {},
   "outputs": [
    {
     "name": "stdout",
     "output_type": "stream",
     "text": [
      "Filename: (No file associated with this HDUList)\n",
      "No.    Name      Ver    Type      Cards   Dimensions   Format\n",
      "  0  PRIMARY       1 PrimaryHDU       6   (768, 1024)   float64   \n"
     ]
    }
   ],
   "source": [
    "hdul.info()"
   ]
  },
  {
   "cell_type": "code",
   "execution_count": 24,
   "metadata": {},
   "outputs": [
    {
     "data": {
      "text/plain": [
       "SIMPLE  =                    T / conforms to FITS standard                      \n",
       "BITPIX  =                  -64 / array data type                                \n",
       "NAXIS   =                    2 / number of array dimensions                     \n",
       "NAXIS1  =                  768                                                  \n",
       "NAXIS2  =                 1024                                                  \n",
       "EXTEND  =                    T                                                  "
      ]
     },
     "execution_count": 24,
     "metadata": {},
     "output_type": "execute_result"
    }
   ],
   "source": [
    "hdul[0].header"
   ]
  },
  {
   "cell_type": "markdown",
   "metadata": {},
   "source": [
    "we can add some more keyword to the header"
   ]
  },
  {
   "cell_type": "code",
   "execution_count": 25,
   "metadata": {},
   "outputs": [],
   "source": [
    "hdul[0].header['OBSERVER'] = 'Giuliano Taffoni'"
   ]
  },
  {
   "cell_type": "markdown",
   "metadata": {},
   "source": [
    "maybe also some comments"
   ]
  },
  {
   "cell_type": "code",
   "execution_count": 27,
   "metadata": {},
   "outputs": [],
   "source": [
    "hdul[0].header['COMMENT'] = \"This is my test FITS file\""
   ]
  },
  {
   "cell_type": "code",
   "execution_count": 33,
   "metadata": {},
   "outputs": [
    {
     "data": {
      "text/plain": [
       "SIMPLE  =                    T / conforms to FITS standard                      \n",
       "BITPIX  =                  -64 / array data type                                \n",
       "NAXIS   =                    2 / number of array dimensions                     \n",
       "NAXIS1  =                  768                                                  \n",
       "NAXIS2  =                 1024                                                  \n",
       "EXTEND  =                    T                                                  \n",
       "OBSERVER= 'Giuliano Taffoni'                                                    \n",
       "COMMENT This is my test FITS file                                               "
      ]
     },
     "execution_count": 33,
     "metadata": {},
     "output_type": "execute_result"
    }
   ],
   "source": [
    "hdul[0].header"
   ]
  },
  {
   "cell_type": "markdown",
   "metadata": {},
   "source": [
    "Now it is ready to be saved.\n",
    "\n",
    "**Tabular Data**\n",
    "\n",
    "To create a table HDU is a little more involved than image HDU, because a table’s structure needs more information as you have seen before.\n",
    "\n",
    "We can start from structuring our data: what kind of data do we have? What is their name and units?\n",
    "\n",
    "Suppose we have two columns, one is the time in terms of expansion factor and one is the temperature in Celsius."
   ]
  },
  {
   "cell_type": "code",
   "execution_count": 34,
   "metadata": {},
   "outputs": [],
   "source": [
    "c1 = np.array([0.1, 0.2, 0.3])\n",
    "c2 = np.array([11.1, 12.3, 15.2])"
   ]
  },
  {
   "cell_type": "markdown",
   "metadata": {},
   "source": [
    "Now we create the columns"
   ]
  },
  {
   "cell_type": "code",
   "execution_count": 36,
   "metadata": {},
   "outputs": [],
   "source": [
    "col1 = fits.Column(name='Time', format='E', unit='redshift', array=c1)\n",
    "col2 = fits.Column(name='Temperature', format='E', unit='celsius', array=c2)"
   ]
  },
  {
   "cell_type": "markdown",
   "metadata": {},
   "source": [
    "Next, create a column definitions object for all columns:"
   ]
  },
  {
   "cell_type": "code",
   "execution_count": 37,
   "metadata": {},
   "outputs": [],
   "source": [
    "cols = fits.ColDefs([col1, col2])"
   ]
  },
  {
   "cell_type": "markdown",
   "metadata": {},
   "source": [
    "Now, create a new binary table HDU object by using the `BinTableHDU.from_columns()` function:"
   ]
  },
  {
   "cell_type": "code",
   "execution_count": 38,
   "metadata": {},
   "outputs": [],
   "source": [
    "hdu = fits.BinTableHDU.from_columns(cols)"
   ]
  },
  {
   "cell_type": "markdown",
   "metadata": {},
   "source": [
    "And the HDU to write into a  file is ready"
   ]
  },
  {
   "cell_type": "code",
   "execution_count": 40,
   "metadata": {},
   "outputs": [
    {
     "name": "stdout",
     "output_type": "stream",
     "text": [
      "Filename: (No file associated with this HDUList)\n",
      "No.    Name      Ver    Type      Cards   Dimensions   Format\n",
      "  0                1 BinTableHDU     14   3R x 2C   ['E', 'E']   \n"
     ]
    }
   ],
   "source": [
    "fits.HDUList([hdu]).info()"
   ]
  },
  {
   "cell_type": "code",
   "execution_count": 41,
   "metadata": {},
   "outputs": [
    {
     "name": "stdout",
     "output_type": "stream",
     "text": [
      "name:\n",
      "    ['Time', 'Temperature']\n",
      "format:\n",
      "    ['E', 'E']\n",
      "unit:\n",
      "    ['redshift', 'celsius']\n",
      "null:\n",
      "    ['', '']\n",
      "bscale:\n",
      "    ['', '']\n",
      "bzero:\n",
      "    ['', '']\n",
      "disp:\n",
      "    ['', '']\n",
      "start:\n",
      "    ['', '']\n",
      "dim:\n",
      "    ['', '']\n",
      "coord_type:\n",
      "    ['', '']\n",
      "coord_unit:\n",
      "    ['', '']\n",
      "coord_ref_point:\n",
      "    ['', '']\n",
      "coord_ref_value:\n",
      "    ['', '']\n",
      "coord_inc:\n",
      "    ['', '']\n",
      "time_ref_pos:\n",
      "    ['', '']\n"
     ]
    }
   ],
   "source": [
    "cols.info()"
   ]
  }
 ],
 "metadata": {
  "kernelspec": {
   "display_name": "Python 3",
   "language": "python",
   "name": "python3"
  },
  "language_info": {
   "codemirror_mode": {
    "name": "ipython",
    "version": 3
   },
   "file_extension": ".py",
   "mimetype": "text/x-python",
   "name": "python",
   "nbconvert_exporter": "python",
   "pygments_lexer": "ipython3",
   "version": "3.6.3"
  }
 },
 "nbformat": 4,
 "nbformat_minor": 2
}
